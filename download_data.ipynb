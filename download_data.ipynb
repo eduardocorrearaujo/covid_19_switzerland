{
 "cells": [
  {
   "cell_type": "markdown",
   "id": "27ad6f4d",
   "metadata": {},
   "source": [
    "In this notebook are shown the codes used to extract and transform the data saved in the [Epigraphhub platform](https://epigraphhub.org/) and save it in the data folder."
   ]
  },
  {
   "cell_type": "code",
   "execution_count": 7,
   "id": "0621d91f",
   "metadata": {},
   "outputs": [],
   "source": [
    "import pandas as pd\n",
    "from epigraphhub.data.foph import get_cluster_data"
   ]
  },
  {
   "cell_type": "markdown",
   "id": "4c1decd6",
   "metadata": {},
   "source": [
    "The code below is used to get the data to train the models: "
   ]
  },
  {
   "cell_type": "code",
   "execution_count": 4,
   "id": "cf80e732",
   "metadata": {},
   "outputs": [],
   "source": [
    "\n",
    "d_cantons = {'GE': ['FR', 'GE', 'JU', 'NE', 'TI', 'VD', 'VS'] , 'BE': ['AG', 'AI', 'AR', 'BE', 'BL', 'BS', 'GL', 'GR', 'LU', 'NW', 'OW',\n",
    "        'SG', 'SH', 'SO', 'SZ', 'TG', 'UR', 'ZG', 'ZH'], 'ZH': ['AG', 'AI', 'AR', 'BE', 'BL', 'BS', 'GL', 'GR', 'LU', 'NW', 'OW',\n",
    "        'SG', 'SH', 'SO', 'SZ', 'TG', 'UR', 'ZG', 'ZH']} \n",
    "\n",
    "for canton in d_cantons: \n",
    "    df = get_cluster_data('switzerland', ['foph_test_d', 'foph_cases_d', 'foph_hosp_d'], d_cantons[canton] , vaccine = True, smooth = True)  \n",
    "    \n",
    "    df.to_csv(f'data_article/data_{canton}.csv')"
   ]
  },
  {
   "cell_type": "markdown",
   "id": "f386f375-f8ae-4e76-beaa-bb1830abfd1c",
   "metadata": {},
   "source": [
    "The code below is used to get the data of cases, hosp and tests: "
   ]
  },
  {
   "cell_type": "code",
   "execution_count": 5,
   "id": "e6d1bba8-1a52-43e1-aab8-9eeb22902297",
   "metadata": {},
   "outputs": [],
   "source": [
    "from sqlalchemy import create_engine\n",
    "from epigraphhub.settings import env\n",
    "\n",
    "with env.db.credentials[env.db.default_credential] as credential:\n",
    "    engine = create_engine(\n",
    "        f\"postgresql://{credential.username}:\"\n",
    "        f\"{credential.password}@{credential.host}:{credential.port}/\"\n",
    "        f\"{credential.dbname}\"\n",
    "    )\n"
   ]
  },
  {
   "cell_type": "code",
   "execution_count": 8,
   "id": "f512e0dd-a19c-4a0e-b786-fbf4dfdca90a",
   "metadata": {},
   "outputs": [],
   "source": [
    "\n",
    "cases = pd.read_sql_table('foph_cases_d', engine, schema = 'switzerland')\n",
    "cases = cases[['datum', 'georegion', 'entries']]\n",
    "cases.set_index('datum', inplace = True)\n",
    "cases.index = pd.to_datetime(cases.index)\n",
    "cases = cases[:'2022-06-30']\n",
    "cases.to_csv('data_article/cases_swiss.py')"
   ]
  },
  {
   "cell_type": "code",
   "execution_count": 11,
   "id": "5debe36a-79ed-4bee-bd39-e0aa3fa97146",
   "metadata": {},
   "outputs": [],
   "source": [
    "hosp = pd.read_sql_table('foph_hosp_d', engine, schema = 'switzerland')\n",
    "hosp = hosp[['datum', 'georegion', 'entries']]\n",
    "hosp.set_index('datum', inplace = True)\n",
    "hosp.index = pd.to_datetime(hosp.index)\n",
    "hosp = cases[:'2022-06-30']\n",
    "hosp.to_csv('data_article/hosp_swiss.py')"
   ]
  },
  {
   "cell_type": "code",
   "execution_count": 12,
   "id": "5a38ab1f-8417-471d-a8d6-65fc2a8139ad",
   "metadata": {},
   "outputs": [],
   "source": [
    "tests = pd.read_sql_table('foph_test_d', engine, schema = 'switzerland')\n",
    "\n",
    "tests = tests[['datum', 'georegion', 'entries', 'entries_pos', 'entries_neg']]\n",
    "tests.set_index('datum', inplace = True)\n",
    "tests.index = pd.to_datetime(tests.index)\n",
    "tests.dropna(subset = 'georegion', inplace = True)\n",
    "tests = tests[:'2022-06-30']\n",
    "tests.to_csv('data_article/tests_swiss.py')"
   ]
  },
  {
   "cell_type": "code",
   "execution_count": null,
   "id": "e59606ea-d335-4d94-8eb0-8570871d53ab",
   "metadata": {},
   "outputs": [],
   "source": []
  }
 ],
 "metadata": {
  "kernelspec": {
   "display_name": "Python 3 (ipykernel)",
   "language": "python",
   "name": "python3"
  },
  "language_info": {
   "codemirror_mode": {
    "name": "ipython",
    "version": 3
   },
   "file_extension": ".py",
   "mimetype": "text/x-python",
   "name": "python",
   "nbconvert_exporter": "python",
   "pygments_lexer": "ipython3",
   "version": "3.10.6"
  }
 },
 "nbformat": 4,
 "nbformat_minor": 5
}
